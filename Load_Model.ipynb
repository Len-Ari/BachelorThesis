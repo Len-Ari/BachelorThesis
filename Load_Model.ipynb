{
 "cells": [
  {
   "cell_type": "markdown",
   "metadata": {},
   "source": [
    "# Download Models\n",
    "\n",
    "This notebook downloads and saves models to the \"Models\" directory. Instead of downloading model, one could also use the model and directly load into memory from the internet."
   ]
  },
  {
   "cell_type": "code",
   "execution_count": 4,
   "metadata": {
    "vscode": {
     "languageId": "plaintext"
    }
   },
   "outputs": [],
   "source": [
    "from save_load_models import save_model_sentencetransformer\n",
    "\n",
    "multiMini = ('paraphrase-multilingual-MiniLM-L12-v2', './Models/multilingual-MiniLM')\n",
    "msMarcoMini = ('sentence-transformers/msmarco-MiniLM-L12-cos-v5', './Models/msmarco-MiniLM')\n",
    "wikimedicalBioBert = ('nuvocare/WikiMedical_sent_biobert_multi', './Models/wikimedical-BioBERT')\n",
    "sPubMedBert = ('pritamdeka/S-PubMedBert-MS-MARCO', './Models/SPubMedBERT')"
   ]
  },
  {
   "cell_type": "code",
   "execution_count": 5,
   "metadata": {
    "vscode": {
     "languageId": "plaintext"
    }
   },
   "outputs": [],
   "source": [
    "save_model_sentencetransformer(*wikimedicalBioBert)"
   ]
  },
  {
   "cell_type": "raw",
   "metadata": {},
   "source": []
  }
 ],
 "metadata": {
  "kernelspec": {
   "display_name": "Python 3 (ipykernel)",
   "language": "python",
   "name": "python3"
  },
  "language_info": {
   "codemirror_mode": {
    "name": "ipython",
    "version": 3
   },
   "file_extension": ".py",
   "mimetype": "text/x-python",
   "name": "python",
   "nbconvert_exporter": "python",
   "pygments_lexer": "ipython3",
   "version": "3.12.8"
  }
 },
 "nbformat": 4,
 "nbformat_minor": 4
}
