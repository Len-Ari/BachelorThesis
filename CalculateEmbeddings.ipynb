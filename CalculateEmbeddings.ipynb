{
 "cells": [
  {
   "cell_type": "markdown",
   "id": "1301fd6d-97aa-4f67-8afb-d665aa870f04",
   "metadata": {},
   "source": [
    "# Calculate Embeddings\n",
    "\n",
    "Subsets have been randomly created and are saved in a directory named: TestData"
   ]
  },
  {
   "cell_type": "code",
   "execution_count": 1,
   "id": "d9909959-6ac0-47c1-a38e-2859bd55ab00",
   "metadata": {},
   "outputs": [
    {
     "name": "stderr",
     "output_type": "stream",
     "text": [
      "/home/abecker/.conda/envs/BachelorEnv/lib/python3.12/site-packages/tqdm/auto.py:21: TqdmWarning: IProgress not found. Please update jupyter and ipywidgets. See https://ipywidgets.readthedocs.io/en/stable/user_install.html\n",
      "  from .autonotebook import tqdm as notebook_tqdm\n"
     ]
    }
   ],
   "source": [
    "from importlib import reload\n",
    "import numpy as np\n",
    "\n",
    "import save_load_models as save_load\n",
    "import helper_methods as hmethods"
   ]
  },
  {
   "cell_type": "code",
   "execution_count": 2,
   "id": "b711a838-da31-4d8d-a5bc-879b1615410f",
   "metadata": {},
   "outputs": [],
   "source": [
    "multiMini = './Models/multilingual-MiniLM'\n",
    "msMarcoMini = './Models/msmarco-MiniLM'\n",
    "wikimedicalBioBert = './Models/wikimedical-BioBERT'\n",
    "sPubMedBert = './Models/SPubMedBERT'\n",
    "\n",
    "sPubMedBertFinetunedv1 = './Models/Finetunedv1/SPubMedBERT/end_model'\n",
    "sPubMedBertFinetunedv2 = './Models/Finetunedv2/SPubMedBERT/end_model'\n",
    "sPubMedBertFinetunedv2batched = './Models/Finetunedv2/SPubMedBERT_batch/end_model' \n",
    "sPubMedBertFinetunedv2low = './Models/Finetunedv2/SPubMedBERT_low/end_model'\n",
    "sPubMedBertFinetunedNfcorpus = './Models/Finetuned/SPubMedBERT-v1-nfcorpus'\n",
    "\n",
    "\n",
    "model = save_load.load_model_sentencetransformer(sPubMedBert)"
   ]
  },
  {
   "cell_type": "code",
   "execution_count": 4,
   "id": "f3d375c1-1b8d-4bab-80a2-e3b5d3e18a37",
   "metadata": {},
   "outputs": [],
   "source": [
    "multiMiniDir = './Embeddings/multilingual-MiniLM/'\n",
    "msMarcoMiniDir = './Embeddings/msmarco-MiniLM/'\n",
    "wikimedicalBioBertDir = './Embeddings/wikimedical-BioBERT/'\n",
    "sPubMedBertDir = './Embeddings/SPubMedBERT/'\n",
    "\n",
    "sPubMedBertFinetunedv1Dir = './Embeddings/Finetunedv1/SPubMedBERT/'\n",
    "sPubMedBertFinetunedv2Dir = './Embeddings/Finetunedv2/SPubMedBERT/'\n",
    "sPubMedBertFinetunedv2batchedDir = './Embeddings/Finetunedv2/SPubMedBERT_batch/'\n",
    "sPubMedBertFinetunedv2lowDir = './Embeddings/Finetunedv2/SPubMedBERT_low/'\n",
    "sPubMedBertFinetunedNfcorpusDir = './Embeddings/FinetunedNfCorpus/SPubMedBERT/'"
   ]
  },
  {
   "cell_type": "code",
   "execution_count": 5,
   "id": "d194103b-efa5-4322-84d3-d1be8d27e9de",
   "metadata": {},
   "outputs": [],
   "source": [
    "# Have to randomly select a few files and paste to some directory\n",
    "# Test_Data_Subset ~8k\n",
    "# RBO_Test_Data_Subset ~50k\n",
    "# Train_Data_Subset ~20k\n",
    "# Train_Data_10k ~10k\n",
    "subset_data_dir = './Data/Train_Data_Subset/'\n",
    "embedded_data_dir = sPubMedBertDir + 'Train_Data_Subset/'"
   ]
  },
  {
   "cell_type": "code",
   "execution_count": 6,
   "id": "a9266e3e-9f3f-4341-b8a8-8307087930c6",
   "metadata": {
    "scrolled": true
   },
   "outputs": [
    {
     "name": "stderr",
     "output_type": "stream",
     "text": [
      "Reading lines: 5000it [00:36, 136.75it/s]\n"
     ]
    },
    {
     "name": "stdout",
     "output_type": "stream",
     "text": [
      "\n",
      "File:  ./Data/Train_Data_Subset/PMC008_35.jsonl  has succesfully beeen embedded.\n",
      "------------------------------------------\n",
      "\n"
     ]
    },
    {
     "name": "stderr",
     "output_type": "stream",
     "text": [
      "Reading lines: 5000it [00:35, 139.67it/s]\n"
     ]
    },
    {
     "name": "stdout",
     "output_type": "stream",
     "text": [
      "\n",
      "File:  ./Data/Train_Data_Subset/PMC007_85.jsonl  has succesfully beeen embedded.\n",
      "------------------------------------------\n",
      "\n"
     ]
    },
    {
     "name": "stderr",
     "output_type": "stream",
     "text": [
      "Reading lines: 5000it [00:33, 148.02it/s]\n"
     ]
    },
    {
     "name": "stdout",
     "output_type": "stream",
     "text": [
      "\n",
      "File:  ./Data/Train_Data_Subset/PMC003_49.jsonl  has succesfully beeen embedded.\n",
      "------------------------------------------\n",
      "\n"
     ]
    },
    {
     "name": "stderr",
     "output_type": "stream",
     "text": [
      "Reading lines: 5000it [00:33, 147.44it/s]"
     ]
    },
    {
     "name": "stdout",
     "output_type": "stream",
     "text": [
      "\n",
      "File:  ./Data/Train_Data_Subset/PMC005_13.jsonl  has succesfully beeen embedded.\n",
      "------------------------------------------\n",
      "\n"
     ]
    },
    {
     "name": "stderr",
     "output_type": "stream",
     "text": [
      "\n"
     ]
    }
   ],
   "source": [
    "reload(hmethods)\n",
    "\n",
    "hmethods.loop_through_directory(subset_data_dir, embedded_data_dir, seq_len=500, seq_overlap=0, model=model, embedding_types=['title', 'abstract'], batchsize=50)"
   ]
  },
  {
   "cell_type": "raw",
   "id": "51f45338-db72-4eb7-b18c-db37a6ef324f",
   "metadata": {},
   "source": [
    "multiMini ~ 15 sec per 5000\n",
    "msMarcoMini ~ 24 sec per 5000 (I thought it should be same as multiMini...)\n",
    "sPubMedBERT ~ 35 sec per 5000\n",
    "wikimedicalBioBert ~ 31 sec per 5000 "
   ]
  }
 ],
 "metadata": {
  "kernelspec": {
   "display_name": "Python 3 (ipykernel)",
   "language": "python",
   "name": "python3"
  },
  "language_info": {
   "codemirror_mode": {
    "name": "ipython",
    "version": 3
   },
   "file_extension": ".py",
   "mimetype": "text/x-python",
   "name": "python",
   "nbconvert_exporter": "python",
   "pygments_lexer": "ipython3",
   "version": "3.12.8"
  }
 },
 "nbformat": 4,
 "nbformat_minor": 5
}
